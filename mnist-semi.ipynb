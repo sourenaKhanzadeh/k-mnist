{
 "cells": [
  {
   "cell_type": "code",
   "execution_count": 1,
   "id": "initial_id",
   "metadata": {
    "collapsed": true,
    "ExecuteTime": {
     "end_time": "2024-01-27T19:31:46.901821600Z",
     "start_time": "2024-01-27T19:31:43.958401700Z"
    }
   },
   "outputs": [],
   "source": [
    "import torch\n",
    "import torch.nn as nn\n",
    "import torchvision.transforms as transforms\n",
    "from torchvision.datasets import MNIST\n",
    "from torch.utils.data import DataLoader\n",
    "from torchvision.transforms import ToTensor\n",
    "\n",
    "geometrical_features = torch.tensor([\n",
    "    # Aspect Ratio, Stroke Count, Horizontal Symmetry, Enclosed Areas\n",
    "    [1.0, 1, 1, 1],  # '0': Circular, 1 stroke, symmetrical, 1 enclosed area\n",
    "    [2.0, 1, 0, 0],  # '1': Tall and narrow, 1 stroke, not symmetrical, no enclosed areas\n",
    "    [1.0, 1, 0, 0],  # '2': Curvy, 1 stroke, not symmetrical, no enclosed areas\n",
    "    [1.0, 1, 0, 0],  # '3': Round in the middle, 1 stroke, not symmetrical, no enclosed areas\n",
    "    [1.0, 2, 0, 0],  # '4': Open, usually 2 strokes, not symmetrical, no enclosed areas\n",
    "    [1.0, 1, 0, 0],  # '5': Curvy with a horizontal line, 1 stroke, not symmetrical, no enclosed areas\n",
    "    [1.0, 1, 0, 1],  # '6': Circular with an inward tail, 1 stroke, not symmetrical, 1 enclosed area\n",
    "    [1.0, 1, 0, 0],  # '7': Angular, 1 stroke, not symmetrical, no enclosed areas\n",
    "    [1.0, 2, 1, 2],  # '8': Two circles, 2 strokes, symmetrical, 2 enclosed areas\n",
    "    [1.0, 1, 0, 1]   # '9': Circular with an outward tail, 1 stroke, not symmetrical, 1 enclosed area\n",
    "])\n",
    "\n",
    "class CNNWithGeometricalInfusion(nn.Module):\n",
    "    def __init__(self, geo_feature_size):\n",
    "        super(CNNWithGeometricalInfusion, self).__init__()\n",
    "        # CNN layers\n",
    "        self.conv1 = nn.Conv2d(1, 16, 3, stride=1, padding=1)\n",
    "        self.pool = nn.MaxPool2d(2, 2)\n",
    "        self.conv2 = nn.Conv2d(16, 32, 3, stride=1, padding=1)\n",
    "        self.fc1 = nn.Linear(32 * 7 * 7, 128)\n",
    "\n",
    "        # Layer for integrating geometrical features\n",
    "        self.fc_geo = nn.Linear(geo_feature_size, 128)\n",
    "        self.fc_combined = nn.Linear(128 + 128, 10)\n",
    "\n",
    "    def forward(self, x, geo_features):\n",
    "        x = self.pool(torch.relu(self.conv1(x)))\n",
    "        x = self.pool(torch.relu(self.conv2(x)))\n",
    "        x = x.view(-1, 32 * 7 * 7)\n",
    "        x = torch.relu(self.fc1(x))\n",
    "\n",
    "        geo_features = torch.relu(self.fc_geo(geo_features))\n",
    "        combined = torch.cat((x, geo_features), dim=1)\n",
    "        combined = self.fc_combined(combined)\n",
    "        return combined\n",
    "\n"
   ]
  },
  {
   "cell_type": "code",
   "outputs": [],
   "source": [
    "transform = transforms.Compose([transforms.ToTensor()])\n",
    "mnist_train = MNIST(root='./data', train=True, download=True, transform=transform)\n",
    "mnist_test = MNIST(root='./data', train=False, download=True, transform=transform)\n",
    "\n",
    "train_loader = DataLoader(mnist_train, batch_size=32, shuffle=True)\n",
    "test_loader = DataLoader(mnist_test, batch_size=32, shuffle=False)\n"
   ],
   "metadata": {
    "collapsed": false,
    "ExecuteTime": {
     "end_time": "2024-01-27T19:31:56.508176100Z",
     "start_time": "2024-01-27T19:31:56.464531300Z"
    }
   },
   "id": "e55fe9222edad030",
   "execution_count": 2
  },
  {
   "cell_type": "code",
   "outputs": [
    {
     "name": "stdout",
     "output_type": "stream",
     "text": [
      "Epoch 1/10, Loss: 0.0025763968005776405\n",
      "Epoch 2/10, Loss: 0.0021123921032994986\n",
      "Epoch 3/10, Loss: 0.002298399806022644\n",
      "Epoch 4/10, Loss: 0.23923571407794952\n",
      "Epoch 5/10, Loss: 0.00018289666331838816\n",
      "Epoch 6/10, Loss: 0.00012004919699393213\n",
      "Epoch 7/10, Loss: 1.4848546925350092e-05\n",
      "Epoch 8/10, Loss: 0.00011062492558266968\n",
      "Epoch 9/10, Loss: 9.238675033884647e-07\n",
      "Epoch 10/10, Loss: 8.95604825927876e-05\n"
     ]
    }
   ],
   "source": [
    "device = torch.device(\"cuda\" if torch.cuda.is_available() else \"cpu\")\n",
    "\n",
    "model = CNNWithGeometricalInfusion(geo_feature_size=4).to(device)\n",
    "criterion = nn.CrossEntropyLoss()\n",
    "optimizer = torch.optim.Adam(model.parameters(), lr=0.001)\n",
    "\n",
    "num_epochs = 10  # Number of epochs\n",
    "\n",
    "for epoch in range(num_epochs):\n",
    "    model.train()\n",
    "    for (images, labels) in train_loader:\n",
    "        images = images.to(device)\n",
    "        labels = labels.to(device)\n",
    "\n",
    "        # Extract geometrical features for each label\n",
    "        geometrical_features = geometrical_features.to(device)\n",
    "        geo_features = geometrical_features[labels]\n",
    "        \n",
    "        # Zero the parameter gradients\n",
    "        optimizer.zero_grad()\n",
    "\n",
    "        # Forward pass\n",
    "        outputs = model(images, geo_features)\n",
    "        loss = criterion(outputs, labels)\n",
    "\n",
    "        # Backward pass and optimize\n",
    "        loss.backward()\n",
    "        optimizer.step()\n",
    "\n",
    "    print(f'Epoch {epoch+1}/{num_epochs}, Loss: {loss.item()}')\n"
   ],
   "metadata": {
    "collapsed": false,
    "ExecuteTime": {
     "end_time": "2024-01-27T19:35:56.712384Z",
     "start_time": "2024-01-27T19:34:32.673290800Z"
    }
   },
   "id": "3f4a24e3f9c6222c",
   "execution_count": 7
  },
  {
   "cell_type": "code",
   "outputs": [
    {
     "name": "stdout",
     "output_type": "stream",
     "text": [
      "Accuracy on the test set: 99.76%\n"
     ]
    }
   ],
   "source": [
    "model.eval()\n",
    "total = 0\n",
    "correct = 0\n",
    "\n",
    "with torch.no_grad():\n",
    "    for (images, labels) in test_loader:\n",
    "        images = images.to(device)\n",
    "        labels = labels.to(device)\n",
    "        geo_features = geometrical_features[labels].to(device)\n",
    "\n",
    "        outputs = model(images, geo_features)\n",
    "        _, predicted = torch.max(outputs.data, 1)\n",
    "        total += labels.size(0)\n",
    "        correct += (predicted == labels).sum().item()\n",
    "\n",
    "accuracy = 100 * correct / total\n",
    "print(f'Accuracy on the test set: {accuracy:.2f}%')\n"
   ],
   "metadata": {
    "collapsed": false,
    "ExecuteTime": {
     "end_time": "2024-01-27T19:36:18.382865Z",
     "start_time": "2024-01-27T19:36:16.904435Z"
    }
   },
   "id": "80403474bc30ae22",
   "execution_count": 8
  },
  {
   "cell_type": "code",
   "outputs": [],
   "source": [],
   "metadata": {
    "collapsed": false
   },
   "id": "3c3465c29afc1813"
  }
 ],
 "metadata": {
  "kernelspec": {
   "display_name": "Python 3",
   "language": "python",
   "name": "python3"
  },
  "language_info": {
   "codemirror_mode": {
    "name": "ipython",
    "version": 2
   },
   "file_extension": ".py",
   "mimetype": "text/x-python",
   "name": "python",
   "nbconvert_exporter": "python",
   "pygments_lexer": "ipython2",
   "version": "2.7.6"
  }
 },
 "nbformat": 5,
 "nbformat_minor": 5
}
